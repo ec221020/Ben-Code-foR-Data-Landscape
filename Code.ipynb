{
 "cells": [
  {
   "cell_type": "code",
   "execution_count": 1,
   "metadata": {},
   "outputs": [
    {
     "ename": "ModuleNotFoundError",
     "evalue": "No module named 'pandas'",
     "output_type": "error",
     "traceback": [
      "\u001b[1;31m---------------------------------------------------------------------------\u001b[0m",
      "\u001b[1;31mModuleNotFoundError\u001b[0m                       Traceback (most recent call last)",
      "Cell \u001b[1;32mIn[1], line 1\u001b[0m\n\u001b[1;32m----> 1\u001b[0m \u001b[38;5;28;01mimport\u001b[39;00m \u001b[38;5;21;01mpandas\u001b[39;00m \u001b[38;5;28;01mas\u001b[39;00m \u001b[38;5;21;01mpd\u001b[39;00m\n\u001b[0;32m      2\u001b[0m \u001b[38;5;28;01mimport\u001b[39;00m \u001b[38;5;21;01mnumpy\u001b[39;00m \u001b[38;5;28;01mas\u001b[39;00m \u001b[38;5;21;01mnp\u001b[39;00m\n\u001b[0;32m      3\u001b[0m \u001b[38;5;28;01mimport\u001b[39;00m \u001b[38;5;21;01mdatetime\u001b[39;00m \u001b[38;5;28;01mas\u001b[39;00m \u001b[38;5;21;01mdt\u001b[39;00m\n",
      "\u001b[1;31mModuleNotFoundError\u001b[0m: No module named 'pandas'"
     ]
    }
   ],
   "source": [
    "import pandas as pd\n",
    "import numpy as np\n",
    "import datetime as dt\n",
    "import matplotlib.pyplot as plt\n",
    "import plotly.express as px\n",
    "import seaborn as sns\n",
    "import folium\n",
    "from folium.plugins import HeatMap\n",
    "from scipy.stats import norm\n",
    "\n",
    "import matplotlib.colors as mc # For the legend\n",
    "from matplotlib.cm import ScalarMappable"
   ]
  },
  {
   "cell_type": "code",
   "execution_count": null,
   "metadata": {},
   "outputs": [],
   "source": [
    "df = pd.read_excel(\"Tech Vend data FY23 Anon.xlsx\", engine=\"openpyxl\")\n",
    "df.head()"
   ]
  },
  {
   "cell_type": "code",
   "execution_count": null,
   "metadata": {},
   "outputs": [],
   "source": [
    "df = df[~df.duplicated(keep = False)]\n",
    "# removes duplicates"
   ]
  },
  {
   "cell_type": "code",
   "execution_count": null,
   "metadata": {},
   "outputs": [],
   "source": [
    "df.sort_values(by=[\"Machine\",\"Date\"], inplace=True)\n",
    "df.reset_index(drop=True,inplace=True)\n",
    "# Algorithm to assign user IDs\n",
    "current_user_id = 0\n",
    "df['userID'] = None\n",
    "\n",
    "for index, row in df.iterrows():\n",
    "    if index == 0 or \\\n",
    "            (row['Date'] - df.iloc[index - 1]['Date']).seconds // 60 >= 5 or \\\n",
    "            any(row[['Cost Center Level 5', 'Cost Center Level 4', 'Management Level', 'Machine']] != df.iloc[index - 1][['Cost Center Level 5', 'Cost Center Level 4', 'Management Level', 'Machine']]):\n",
    "        current_user_id += 1\n",
    "    df.at[index, 'userID'] = current_user_id\n",
    "print(df.head(100))"
   ]
  },
  {
   "cell_type": "code",
   "execution_count": null,
   "metadata": {},
   "outputs": [],
   "source": [
    "#get the median cost of each item, and replace all costs for that item with the median cost.\n",
    "#make sure to be careful with items that have 10 or less entries\n",
    "counts = df.groupby(\"Item Desc\").count()\n",
    "for item in counts.index:\n",
    "    if counts.loc[item][\"Date\"] > 10:\n",
    "        df.loc[df[\"Item Desc\"] == item,\"Cost\"] = df[df[\"Item Desc\"] == item][\"Cost\"].median()\n",
    "    else:\n",
    "        #no other changes are needed\n",
    "        print(\"Item (%s) Info:\"%(item))\n",
    "        print(df[df[\"Item Desc\"] == item][\"Cost\"])"
   ]
  },
  {
   "cell_type": "code",
   "execution_count": null,
   "metadata": {},
   "outputs": [],
   "source": [
    "machine_coordinates = {\n",
    "    'London': {'Latitude': 51.5072, 'Longitude': -0.1275},\n",
    "    'Belfast': {'Latitude': 54.5964, 'Longitude': -5.93},\n",
    "    'Reading': {'Latitude': 51.45625, 'Longitude': -0.97113},\n",
    "    'Birmingham': {'Latitude': 52.48, 'Longitude': -1.9025},\n",
    "    'Leeds': {'Latitude': 53.801277, 'Longitude': -1.548567},\n",
    "    'Bristol': {'Latitude': 51.4536, 'Longitude': -2.5975},\n",
    "    'Manchester': {'Latitude': 53.4794, 'Longitude': -2.2453},\n",
    "    'Watford': {'Latitude': 51.655, 'Longitude': -0.3957},\n",
    "    'Edinburgh': {'Latitude': 55.953251, 'Longitude': -3.188267},\n",
    "    'Glasgow': {'Latitude': 55.860916, 'Longitude': -4.251433},\n",
    "    'Cardiff': {'Latitude': 51.4837, 'Longitude': 3.1681}\n",
    "}\n",
    "\n",
    "df['Latitude'] = df['Machine'].apply(lambda x: machine_coordinates[x.split()[0]]['Latitude'])\n",
    "df['Longitude'] = df['Machine'].apply(lambda x: machine_coordinates[x.split()[0]]['Longitude'])\n",
    "\n",
    "print(df.head(100000))"
   ]
  },
  {
   "cell_type": "code",
   "execution_count": null,
   "metadata": {},
   "outputs": [],
   "source": [
    "machine_coordinates = {\n",
    "    'London Office 1': {'Latitude': 51.5081, 'Longitude': -0.1248},\n",
    "    'London Office 2': {'Latitude': 51.5045, 'Longitude': 0.0865},\n",
    "    'Belfast': {'Latitude': 54.5964, 'Longitude': -5.93},\n",
    "    'Reading': {'Latitude': 51.45625, 'Longitude': -0.97113},\n",
    "    'Birmingham': {'Latitude': 52.48, 'Longitude': -1.9025},\n",
    "    'Leeds': {'Latitude': 53.801277, 'Longitude': -1.548567},\n",
    "    'Bristol': {'Latitude': 51.4536, 'Longitude': -2.5975},\n",
    "    'Manchester': {'Latitude': 53.4794, 'Longitude': -2.2453},\n",
    "    'Watford': {'Latitude': 51.655, 'Longitude': -0.3957},\n",
    "    'Edinburgh': {'Latitude': 55.953251, 'Longitude': -3.188267},\n",
    "    'Glasgow': {'Latitude': 55.860916, 'Longitude': -4.251433},\n",
    "    'Cardiff': {'Latitude': 51.4816, 'Longitude': 3.1791}\n",
    "}\n",
    "\n",
    "df['Latitude'] = df['Machine'].apply(lambda x: machine_coordinates[' '.join(x.split()[:3])]['Latitude'] if x.startswith('London') else machine_coordinates[x.split()[0]]['Latitude'])\n",
    "df['Longitude'] = df['Machine'].apply(lambda x: machine_coordinates[' '.join(x.split()[:3])]['Longitude'] if x.startswith('London') else machine_coordinates[x.split()[0]]['Longitude'])\n",
    "\n",
    "print(df.head(100)) "
   ]
  },
  {
   "cell_type": "code",
   "execution_count": null,
   "metadata": {},
   "outputs": [],
   "source": [
    "df.loc[df['Machine'].str.startswith('Cardiff'), 'Latitude'] = 51.4816\n",
    "df.loc[df['Machine'].str.startswith('Cardiff'), 'Longitude'] = -3.1791\n",
    "\n",
    "\n",
    "print(df[df['Machine'].str.startswith('Cardiff')])"
   ]
  },
  {
   "cell_type": "code",
   "execution_count": null,
   "metadata": {},
   "outputs": [],
   "source": [
    "condition_office_1 = df['Machine'].str.startswith('London Office 1')\n",
    "condition_office_2 = df['Machine'].str.startswith('London Office 2')\n",
    "df.loc[condition_office_1, 'City'] = 'London Office 1'\n",
    "df.loc[condition_office_2, 'City'] = 'London Office 2'\n",
    "\n",
    "df.loc[~(condition_office_1 | condition_office_2), 'City'] = df['Machine'].str.split().str[0]\n",
    "print(df)"
   ]
  },
  {
   "cell_type": "code",
   "execution_count": null,
   "metadata": {},
   "outputs": [],
   "source": [
    "#Map Heatmap for sum of cost per city\n",
    "location_costs = df.groupby(['Latitude', 'Longitude'])['Cost'].sum().reset_index()\n",
    "\n",
    "heatmap_map = folium.Map(location=[54.7023545, -3.2765753], zoom_start=6)\n",
    "\n",
    "heat_data = [[row['Latitude'], row['Longitude'], row['Cost']] for index, row in location_costs.iterrows()]\n",
    "\n",
    "HeatMap(heat_data).add_to(heatmap_map)\n",
    "\n",
    "heatmap_map.save('total_cost_heatmap.html')"
   ]
  },
  {
   "cell_type": "code",
   "execution_count": null,
   "metadata": {},
   "outputs": [],
   "source": [
    "#bar chart for sum of cost per city\n",
    "city_costs = df.groupby('City')['Cost'].sum().reset_index()\n",
    "\n",
    "city_costs_sorted = city_costs.sort_values(by='Cost', ascending=False)\n",
    "\n",
    "fig = px.bar(city_costs_sorted, x='City', y='Cost', title='Total Cost by City', labels={'City': 'City', 'Cost': 'Total Cost'})\n",
    "\n",
    "fig.show()"
   ]
  },
  {
   "cell_type": "code",
   "execution_count": null,
   "metadata": {},
   "outputs": [],
   "source": [
    "#Heatmap for relation between UserID and cost\n",
    "fig = px.density_heatmap(df, x='userID', y='Cost', nbinsx=200, nbinsy=200)\n",
    "fig.update_layout(title='HeatMap to show userID Relation to Cost')\n",
    "fig.show()"
   ]
  },
  {
   "cell_type": "code",
   "execution_count": null,
   "metadata": {},
   "outputs": [],
   "source": [
    "#Scatter for Cost vs. UserID (Colored by Management Level)\n",
    "filtered_df = df[~df['Management Level'].isin(['Specialist', 'Intern/Trainee', 'Administrative'])]\n",
    "\n",
    "fig = px.scatter(filtered_df, x='userID', y='Cost', color='Management Level',\n",
    "                 labels={'userID': 'User ID', 'Cost': 'Cost', 'Management Level': 'Management Level'},\n",
    "                 title='Cost vs. UserID (Colored by Management Level)')\n",
    "\n",
    "fig.show()"
   ]
  },
  {
   "cell_type": "code",
   "execution_count": null,
   "metadata": {},
   "outputs": [],
   "source": [
    "#Scatter for Cost vs. UserID (Colored by City)'\n",
    "fig = px.scatter(df, x='userID', y='Cost', color='City',\n",
    "                 labels={'userID': 'User ID', 'Cost': 'Cost', 'City': 'City'},\n",
    "                 title='Cost vs. UserID (Colored by City)')\n",
    "\n",
    "fig.show()"
   ]
  },
  {
   "cell_type": "code",
   "execution_count": null,
   "metadata": {},
   "outputs": [],
   "source": [
    "unique_costs = df['Cost'].unique()\n",
    "print(unique_costs)"
   ]
  },
  {
   "cell_type": "code",
   "execution_count": null,
   "metadata": {},
   "outputs": [],
   "source": [
    "#stacked bar chart for total cost by mangement level within each cost center\n",
    "filtered_df = df[~df['Management Level'].isin(['Specialist', 'Intern/Trainee', 'Administrative'])]\n",
    "grouped_data = filtered_df.groupby(['Cost Center Level 5', 'Management Level'], as_index=False)['Cost'].sum()\n",
    "\n",
    "fig = px.bar(grouped_data, x='Cost Center Level 5', y='Cost', color='Management Level',\n",
    "             title='Total Cost by Management Level within each Cost Center Level 5',\n",
    "             labels={'Cost Center Level 5': 'Cost Center Level 5', 'Cost': 'Total Cost', 'Management Level': 'Management Level'},\n",
    "             barmode='stack')\n",
    "fig.show()"
   ]
  },
  {
   "cell_type": "code",
   "execution_count": null,
   "metadata": {},
   "outputs": [],
   "source": [
    "#stacked bar chart for total cost by city within each cost center\n",
    "grouped_data = filtered_df.groupby(['Cost Center Level 5', 'City'], as_index=False)['Cost'].sum()\n",
    "fig = px.bar(grouped_data, x='Cost Center Level 5', y='Cost', color='City',\n",
    "             title='Total Cost by City within each Cost Center Level 5',\n",
    "             labels={'Cost Center Level 5': 'Cost Center Level 5', 'Cost': 'Total Cost', 'City': 'City'},\n",
    "             barmode='stack')\n",
    "\n",
    "fig.show()"
   ]
  },
  {
   "cell_type": "code",
   "execution_count": null,
   "metadata": {},
   "outputs": [],
   "source": [
    "#Stacked bar chart for total cost by cost center within each city\n",
    "filtered_df = df[~df['Management Level'].isin(['Specialist', 'Intern/Trainee', 'Administrative'])]\n",
    "\n",
    "grouped_data = filtered_df.groupby(['City', 'Cost Center Level 5'], as_index=False)['Cost'].sum()\n",
    "\n",
    "fig = px.bar(grouped_data, x='City', y='Cost', color='Cost Center Level 5',\n",
    "             title='Total Cost by Cost Center Level 5 within each City',\n",
    "             labels={'City': 'City', 'Cost': 'Total Cost', 'Cost Center Level 5': 'Cost Center Level 5'},\n",
    "             barmode='stack')\n",
    "\n",
    "fig.show()"
   ]
  },
  {
   "cell_type": "code",
   "execution_count": null,
   "metadata": {},
   "outputs": [],
   "source": [
    "#Map Heatmap for average cost per city\n",
    "location_avg_cost = df.groupby(['Latitude', 'Longitude'])['Cost'].mean().reset_index()\n",
    "\n",
    "heatmap_map = folium.Map(location=[54.7023545, -3.2765753], zoom_start=6)\n",
    "\n",
    "heat_data = [[row['Latitude'], row['Longitude'], row['Cost']] for index, row in location_avg_cost.iterrows()]\n",
    "\n",
    "HeatMap(heat_data).add_to(heatmap_map)\n",
    "\n",
    "heatmap_map.save('avg_cost_heatmap.html')"
   ]
  },
  {
   "cell_type": "code",
   "execution_count": null,
   "metadata": {},
   "outputs": [],
   "source": [
    "#Total cost Bar chart per item\n",
    "item_counts = df['Item Desc'].value_counts().reset_index()\n",
    "item_counts.columns = ['Item Desc', 'Frequency']\n",
    "fig = px.bar(item_counts, x='Item Desc', y='Frequency', title='Histogram of Item Descriptions by Popularity')\n",
    "fig.update_layout(xaxis={'type': 'category', 'tickangle': 270})\n",
    "fig.show()"
   ]
  },
  {
   "cell_type": "code",
   "execution_count": null,
   "metadata": {},
   "outputs": [],
   "source": [
    "#Total cost bar chart for top 8 items\n",
    "item_stats = df.groupby('Item Desc').agg(Frequency=('Item Desc', 'count'), Average_Cost=('Cost', 'mean')).reset_index()\n",
    "top_8_items = item_stats.nlargest(8, 'Frequency')\n",
    "\n",
    "fig = px.bar(top_6_items, x='Item Desc', y='Frequency', title='Top 8 Items by Popularity (with respective cost of each as label)',\n",
    "             text='Average_Cost', hover_data=['Average_Cost'])\n",
    "\n",
    "fig.update_traces(texttemplate='%{text:.2f}', textposition='outside')\n",
    "fig.update_layout(\n",
    "    xaxis={'type': 'category', 'tickangle': 270},\n",
    "    yaxis_title=\"Frequency\",\n",
    "    hovermode='closest',\n",
    "    height=800\n",
    ")\n",
    "\n",
    "fig.show()"
   ]
  },
  {
   "cell_type": "code",
   "execution_count": null,
   "metadata": {},
   "outputs": [],
   "source": [
    "#Tree Chart for popularity of item category\n",
    "fig = px.treemap(item_counts, \n",
    "                 path=['Category'], \n",
    "                 values='Frequency', \n",
    "                 title='Treemap of Item Category by Popularity',\n",
    "                 color='Frequency', \n",
    "                 color_continuous_scale=px.colors.sequential.Blues,  \n",
    "                 custom_data=['Category', 'Frequency'])  \n",
    "\n",
    "fig.update_traces(texttemplate='<b>%{label}</b><br>%{customdata[1]}', \n",
    "                  textposition='middle center') \n",
    "\n",
    "\n",
    "fig.update_layout(\n",
    "    paper_bgcolor='rgba(255,255,255,1)',  \n",
    "    plot_bgcolor='rgba(255,255,255,1)', \n",
    "    uniformtext=dict(minsize=10)         \n",
    ")\n",
    "\n",
    "fig.show()"
   ]
  },
  {
   "cell_type": "code",
   "execution_count": null,
   "metadata": {},
   "outputs": [],
   "source": [
    "#Frequency of Mangement Levels bar chart\n",
    "management_counts = df['Management Level'].value_counts().reset_index()\n",
    "management_counts.columns = ['Management Level', 'Frequency']\n",
    "​\n",
    "fig = px.bar(management_counts, x='Management Level', y='Frequency', \n",
    "             title='Frequency of Management Levels', \n",
    "             labels={'Management Level': 'Management Level', 'Frequency': 'Frequency'})\n",
    "fig.update_layout(xaxis={'type': 'category', 'categoryorder': 'total descending'})\n",
    "fig.show()"
   ]
  },
  {
   "cell_type": "code",
   "execution_count": null,
   "metadata": {},
   "outputs": [],
   "source": [
    "#Number of Unique users by management level bar chart\n",
    "management_counts = df.groupby('Management Level')['userID'].nunique().reset_index()\n",
    "management_counts.columns = ['Management Level', 'Unique UserIDs']\n",
    "\n",
    "fig = px.bar(management_counts, x='Management Level', y='Unique UserIDs',\n",
    "             title='Number of Unique UserIDs by Management Level',\n",
    "             labels={'Management Level': 'Management Level', 'Unique UserIDs': 'Number of Unique UserIDs'})\n",
    "\n",
    "fig.update_layout(xaxis={'type': 'category', 'categoryorder': 'total descending'})\n",
    "\n",
    "fig.show()"
   ]
  },
  {
   "cell_type": "code",
   "execution_count": null,
   "metadata": {},
   "outputs": [],
   "source": [
    "#Total cost by cost center bar chart\n",
    "cost_center_totals = df.groupby('Cost Center Level 5', as_index=False)['Cost'].sum()\n",
    "fig = px.bar(cost_center_totals,\n",
    "             x='Cost Center Level 5',\n",
    "             y='Cost',\n",
    "             title='Total Cost by Cost Center Level 5',\n",
    "             labels={'Cost': 'Total Cost', 'Cost Center Level 5': 'Cost Center Level 5'})\n",
    "fig.update_layout(xaxis_title=\"Cost Center Level 5\",\n",
    "                  yaxis_title=\"Total Cost\")\n",
    "fig.show()"
   ]
  },
  {
   "cell_type": "code",
   "execution_count": null,
   "metadata": {},
   "outputs": [],
   "source": [
    "#Total cost by managment level bar chart\n",
    "cost_center_totals = df.groupby('Management Level', as_index=False)['Cost'].sum()\n",
    "\n",
    "fig = px.bar(cost_center_totals,\n",
    "             x='Management Level',\n",
    "             y='Cost',\n",
    "             title='Total Cost by Management Level',\n",
    "             labels={'cost': 'Total Cost', 'Management Level': 'Management Level'})\n",
    "\n",
    "\n",
    "fig.update_layout(xaxis_title=\"Management Level\",\n",
    "                  yaxis_title=\"Total Cost\")\n",
    "fig.show()"
   ]
  },
  {
   "cell_type": "code",
   "execution_count": null,
   "metadata": {},
   "outputs": [],
   "source": []
  }
 ],
 "metadata": {
  "kernelspec": {
   "display_name": "Python 3",
   "language": "python",
   "name": "python3"
  },
  "language_info": {
   "codemirror_mode": {
    "name": "ipython",
    "version": 3
   },
   "file_extension": ".py",
   "mimetype": "text/x-python",
   "name": "python",
   "nbconvert_exporter": "python",
   "pygments_lexer": "ipython3",
   "version": "3.11.9"
  }
 },
 "nbformat": 4,
 "nbformat_minor": 2
}
